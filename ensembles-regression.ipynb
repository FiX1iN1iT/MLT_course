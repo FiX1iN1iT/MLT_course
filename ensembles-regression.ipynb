{
 "cells": [
  {
   "cell_type": "markdown",
   "id": "c7538f69",
   "metadata": {},
   "source": [
    "#### Импорт библиотек"
   ]
  },
  {
   "cell_type": "code",
   "execution_count": 52,
   "id": "93130832",
   "metadata": {},
   "outputs": [],
   "source": [
    "import pandas as pd\n",
    "import numpy as np\n",
    "from sklearn.model_selection import train_test_split\n",
    "from sklearn.preprocessing import StandardScaler, OneHotEncoder, RobustScaler\n",
    "from sklearn.impute import SimpleImputer\n",
    "from sklearn.compose import ColumnTransformer\n",
    "from sklearn.pipeline import Pipeline\n",
    "from sklearn.metrics import mean_squared_error, r2_score\n",
    "import matplotlib.pyplot as plt\n",
    "\n",
    "from sklearn.ensemble import StackingRegressor\n",
    "from sklearn.linear_model import RidgeCV\n",
    "from sklearn.svm import SVR\n",
    "from sklearn.tree import DecisionTreeRegressor\n",
    "\n",
    "from sklearn.neural_network import MLPRegressor\n",
    "\n",
    "from gmdh import Combi, Multi, Mia, Ria"
   ]
  },
  {
   "cell_type": "markdown",
   "id": "ee34515a",
   "metadata": {},
   "source": [
    "#### Предобработка"
   ]
  },
  {
   "cell_type": "code",
   "execution_count": 53,
   "id": "039ac6a6",
   "metadata": {},
   "outputs": [
    {
     "name": "stdout",
     "output_type": "stream",
     "text": [
      "longitude             0\n",
      "latitude              0\n",
      "housingMedianAge      0\n",
      "totalRooms            0\n",
      "totalBedrooms       207\n",
      "population            0\n",
      "households            0\n",
      "medianIncome          0\n",
      "medianHouseValue      0\n",
      "oceanProximity        0\n",
      "dtype: int64\n"
     ]
    }
   ],
   "source": [
    "# Загрузка данных\n",
    "data = pd.read_csv('housing.csv')  # Предполагаем, что данные в CSV\n",
    "\n",
    "# Проверка на пропуски\n",
    "print(data.isnull().sum())"
   ]
  },
  {
   "cell_type": "markdown",
   "id": "09ed1ff2",
   "metadata": {},
   "source": [
    "##### Обработка пропусков и категориальных признаков"
   ]
  },
  {
   "cell_type": "code",
   "execution_count": 54,
   "id": "fad33d6d",
   "metadata": {},
   "outputs": [],
   "source": [
    "# Разделение на признаки и целевую переменную\n",
    "X = data.drop('medianHouseValue', axis=1)\n",
    "y = data['medianHouseValue']\n",
    "\n",
    "# Логарифмирование числовых признаков с большим разбросом\n",
    "for col in ['totalRooms', 'totalBedrooms', 'population', 'households']:\n",
    "    X[col] = np.log1p(X[col])\n",
    "\n",
    "# Определение числовых и категориальных признаков\n",
    "numeric_features = ['longitude', 'latitude', 'housingMedianAge', 'totalRooms', \n",
    "                   'totalBedrooms', 'population', 'households', 'medianIncome']\n",
    "categorical_features = ['oceanProximity']\n",
    "\n",
    "# Создание преобразователей\n",
    "numeric_transformer = Pipeline(steps=[\n",
    "    ('imputer', SimpleImputer(strategy='median')),\n",
    "    ('scaler', RobustScaler())])\n",
    "\n",
    "categorical_transformer = Pipeline(steps=[\n",
    "    ('imputer', SimpleImputer(strategy='most_frequent')),\n",
    "    ('onehot', OneHotEncoder(handle_unknown='ignore'))])\n",
    "\n",
    "# Объединение преобразований\n",
    "preprocessor = ColumnTransformer(\n",
    "    transformers=[\n",
    "        ('num', numeric_transformer, numeric_features),\n",
    "        ('cat', categorical_transformer, categorical_features)])\n",
    "\n",
    "# Применение преобразований\n",
    "X_processed = preprocessor.fit_transform(X)\n",
    "\n",
    "# Разделение на обучающую и тестовую выборки\n",
    "X_train, X_test, y_train, y_test = train_test_split(\n",
    "    X_processed, y, test_size=0.2, random_state=42)\n",
    "\n",
    "# Масштабируем целевую переменную\n",
    "y_scaler = StandardScaler()\n",
    "y_train_scaled = y_scaler.fit_transform(y_train.values.reshape(-1, 1)).ravel()\n",
    "y_test_scaled = y_scaler.transform(y_test.values.reshape(-1, 1)).ravel()"
   ]
  },
  {
   "cell_type": "markdown",
   "id": "46b029b2",
   "metadata": {},
   "source": [
    "#### Обучение моделей"
   ]
  },
  {
   "cell_type": "markdown",
   "id": "fa4909b9",
   "metadata": {},
   "source": [
    "##### Стекинг (Stacking)"
   ]
  },
  {
   "cell_type": "code",
   "execution_count": 55,
   "id": "d4093e79",
   "metadata": {},
   "outputs": [
    {
     "name": "stdout",
     "output_type": "stream",
     "text": [
      "Stacking MSE: 2875400077.86, R2: 0.78\n"
     ]
    }
   ],
   "source": [
    "# Определение базовых моделей\n",
    "estimators = [\n",
    "    ('svr', SVR()),\n",
    "    ('tree', DecisionTreeRegressor(random_state=42))\n",
    "]\n",
    "\n",
    "# Создание модели стекинга\n",
    "stacking_model = StackingRegressor(\n",
    "    estimators=estimators,\n",
    "    final_estimator=RidgeCV()\n",
    ")\n",
    "\n",
    "# Обучение\n",
    "stacking_model.fit(X_train, y_train_scaled)\n",
    "stacking_pred = y_scaler.inverse_transform(\n",
    "    stacking_model.predict(X_test).reshape(-1, 1)).ravel()\n",
    "\n",
    "# Оценка\n",
    "stacking_mse = mean_squared_error(y_test, stacking_pred)\n",
    "stacking_r2 = r2_score(y_test, stacking_pred)\n",
    "print(f\"Stacking MSE: {stacking_mse:.2f}, R2: {stacking_r2:.2f}\")"
   ]
  },
  {
   "cell_type": "markdown",
   "id": "10bbde27",
   "metadata": {},
   "source": [
    "##### Многослойный персептрон (MLP)"
   ]
  },
  {
   "cell_type": "code",
   "execution_count": 56,
   "id": "1720fad7",
   "metadata": {},
   "outputs": [
    {
     "name": "stdout",
     "output_type": "stream",
     "text": [
      "MLP MSE: 2806595711.04, R2: 0.79\n"
     ]
    }
   ],
   "source": [
    "# Создание и обучение MLP\n",
    "mlp_model = MLPRegressor(\n",
    "    hidden_layer_sizes=(100, 50),\n",
    "    activation='relu',\n",
    "    solver='adam',\n",
    "    max_iter=500,\n",
    "    random_state=42\n",
    ")\n",
    "\n",
    "mlp_model.fit(X_train, y_train_scaled)\n",
    "mlp_pred = y_scaler.inverse_transform(\n",
    "    mlp_model.predict(X_test).reshape(-1, 1)).ravel()\n",
    "\n",
    "# Оценка\n",
    "mlp_mse = mean_squared_error(y_test, mlp_pred)\n",
    "mlp_r2 = r2_score(y_test, mlp_pred)\n",
    "print(f\"MLP MSE: {mlp_mse:.2f}, R2: {mlp_r2:.2f}\")"
   ]
  },
  {
   "cell_type": "markdown",
   "id": "319f9a41",
   "metadata": {},
   "source": [
    "##### Модели МГУА (GMDH)"
   ]
  },
  {
   "cell_type": "code",
   "execution_count": 57,
   "id": "62819baa",
   "metadata": {},
   "outputs": [
    {
     "name": "stdout",
     "output_type": "stream",
     "text": [
      "COMBI MSE: 4795036987.46, R2: 0.63\n",
      "RIA MSE: 4156234754.53, R2: 0.68\n"
     ]
    }
   ],
   "source": [
    "# Линейный метод COMBI\n",
    "combi_model = Combi()\n",
    "combi_model.fit(X_train, y_train_scaled)\n",
    "combi_pred = y_scaler.inverse_transform(\n",
    "    combi_model.predict(X_test).reshape(-1, 1)).ravel()\n",
    "\n",
    "combi_mse = mean_squared_error(y_test, combi_pred)\n",
    "combi_r2 = r2_score(y_test, combi_pred)\n",
    "print(f\"COMBI MSE: {combi_mse:.2f}, R2: {combi_r2:.2f}\")\n",
    "\n",
    "# Нелинейный метод RIA\n",
    "ria_model = Ria()\n",
    "ria_model.fit(X_train, y_train_scaled)\n",
    "ria_pred = y_scaler.inverse_transform(\n",
    "    ria_model.predict(X_test).reshape(-1, 1)).ravel()\n",
    "\n",
    "ria_mse = mean_squared_error(y_test, ria_pred)\n",
    "ria_r2 = r2_score(y_test, ria_pred)\n",
    "print(f\"RIA MSE: {ria_mse:.2f}, R2: {ria_r2:.2f}\")"
   ]
  },
  {
   "cell_type": "markdown",
   "id": "1195eb73",
   "metadata": {},
   "source": [
    "#### Сравнение моделей"
   ]
  },
  {
   "cell_type": "code",
   "execution_count": 58,
   "id": "2f49bc2e",
   "metadata": {},
   "outputs": [
    {
     "name": "stdout",
     "output_type": "stream",
     "text": [
      "      Model           MSE        R2\n",
      "1       MLP  2.806596e+09  0.785823\n",
      "0  Stacking  2.875400e+09  0.780572\n",
      "3       RIA  4.156235e+09  0.682829\n",
      "2     COMBI  4.795037e+09  0.634081\n"
     ]
    },
    {
     "data": {
      "image/png": "[encoded data removed]",
      "text/plain": [
       "<Figure size 1000x500 with 1 Axes>"
      ]
     },
     "metadata": {},
     "output_type": "display_data"
    }
   ],
   "source": [
    "# Создание DataFrame с результатами\n",
    "results = pd.DataFrame({\n",
    "    'Model': ['Stacking', 'MLP', 'COMBI', 'RIA'],\n",
    "    'MSE': [stacking_mse, mlp_mse, combi_mse, ria_mse],\n",
    "    'R2': [stacking_r2, mlp_r2, combi_r2, ria_r2]\n",
    "})\n",
    "\n",
    "# Вывод результатов\n",
    "print(results.sort_values(by='R2', ascending=False))\n",
    "\n",
    "# Визуализация\n",
    "plt.figure(figsize=(10, 5))\n",
    "plt.bar(results['Model'], results['R2'])\n",
    "plt.title('Сравнение моделей по R2 score')\n",
    "plt.ylabel('R2 score')\n",
    "plt.ylim(0, 1)\n",
    "plt.show()"
   ]
  },
  {
   "cell_type": "markdown",
   "id": "e01ec1df",
   "metadata": {},
   "source": [
    "#### Выводы"
   ]
  },
  {
   "cell_type": "markdown",
   "id": "7341c901",
   "metadata": {},
   "source": [
    "1. Предобработка данных: Мы заполнили пропуски медианными значениями для числовых признаков и наиболее частыми для категориальных, стандартизировали числовые признаки и применили one-hot кодирование для категориальных.\n",
    "2. Разделение данных: Данные были разделены на обучающую (80%) и тестовую (20%) выборки.\n",
    "3. Модели:\n",
    "    - Стекинг показал хорошие результаты, объединяя предсказания SVR и дерева решений с помощью Ridge регрессии.\n",
    "    - MLP (многослойный персептрон) продемонстрировал лучшие результаты благодаря своей способности моделировать сложные нелинейные зависимости.\n",
    "    - Методы МГУА:\n",
    "      - Линейный метод COMBI показал скромные результаты, так как данные содержат сложные нелинейные зависимости.\n",
    "      - Нелинейный метод RIA показал себя лучше, но все же уступил MLP и стекингу.\n",
    "4. Метрики: Лучшие результаты по R2 score показал MLP, за ним следует стекинг. Методы МГУА показали более низкие результаты, что может быть связано с особенностями данного набора данных.\n",
    "    - MSE (Mean Squared Error) – Среднеквадратичная ошибка\n",
    "      - Что значит: Считает среднее значение квадратов разницы между предсказанными и реальными значениями.\n",
    "      - Почему подходит:\n",
    "        - Чувствительна к большим ошибкам (штрафует выбросы).\n",
    "        - Хороша для сравнения моделей, но сама по себе малоинформативна из-за масштаба (доллары²).\n",
    "    - R² (R-squared) – Коэффициент детерминации\n",
    "      - Что значит: Доля дисперсии целевой переменной, объясненная моделью (от 0 до 1).\n",
    "      - Почему подходит:\n",
    "        - R² = 0.75 → модель объясняет 75% изменчивости цен.\n",
    "        - Удобен для сравнения моделей независимо от масштаба данных."
   ]
  },
  {
   "cell_type": "markdown",
   "id": "89c1d761",
   "metadata": {},
   "source": [
    "#### Анализ распределения medianHouseValue"
   ]
  },
  {
   "cell_type": "code",
   "execution_count": 59,
   "id": "de65e695",
   "metadata": {},
   "outputs": [
    {
     "data": {
      "image/png": "[encoded data removed]",
      "text/plain": [
       "<Figure size 1000x500 with 1 Axes>"
      ]
     },
     "metadata": {},
     "output_type": "display_data"
    }
   ],
   "source": [
    "plt.figure(figsize=(10, 5))\n",
    "plt.hist(y, bins=50, edgecolor='k')\n",
    "plt.title(\"Распределение medianHouseValue\")\n",
    "plt.xlabel(\"Цена дома ($)\")\n",
    "plt.ylabel(\"Количество записей\")\n",
    "plt.show()"
   ]
  }
 ],
 "metadata": {
  "kernelspec": {
   "display_name": ".venv",
   "language": "python",
   "name": "python3"
  },
  "language_info": {
   "codemirror_mode": {
    "name": "ipython",
    "version": 3
   },
   "file_extension": ".py",
   "mimetype": "text/x-python",
   "name": "python",
   "nbconvert_exporter": "python",
   "pygments_lexer": "ipython3",
   "version": "3.8.10"
  }
 },
 "nbformat": 4,
 "nbformat_minor": 5
}
