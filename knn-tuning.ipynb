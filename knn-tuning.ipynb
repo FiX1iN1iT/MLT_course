{
 "cells": [
  {
   "cell_type": "markdown",
   "id": "6c777892",
   "metadata": {},
   "source": [
    "#### Импорт необходимых библиотек"
   ]
  },
  {
   "cell_type": "code",
   "execution_count": 1,
   "id": "c3bd8bea",
   "metadata": {},
   "outputs": [],
   "source": [
    "import numpy as np\n",
    "import pandas as pd\n",
    "import matplotlib.pyplot as plt\n",
    "import seaborn as sns\n",
    "from sklearn.datasets import load_wine\n",
    "from sklearn.model_selection import train_test_split, GridSearchCV, RandomizedSearchCV, cross_val_score, KFold, StratifiedKFold\n",
    "from sklearn.neighbors import KNeighborsClassifier\n",
    "from sklearn.preprocessing import StandardScaler\n",
    "from sklearn.metrics import accuracy_score, classification_report, confusion_matrix\n",
    "from scipy.stats import randint"
   ]
  },
  {
   "cell_type": "markdown",
   "id": "65c6445e",
   "metadata": {},
   "source": [
    "#### Загрузка датасета"
   ]
  },
  {
   "cell_type": "code",
   "execution_count": 2,
   "id": "28960618",
   "metadata": {},
   "outputs": [],
   "source": [
    "wine = load_wine()\n",
    "X = wine.data\n",
    "y = wine.target\n",
    "feature_names = wine.feature_names\n",
    "target_names = wine.target_names"
   ]
  },
  {
   "cell_type": "markdown",
   "id": "aa26eb23",
   "metadata": {},
   "source": [
    "#### Преобразуем в DataFrame для удобства анализа"
   ]
  },
  {
   "cell_type": "code",
   "execution_count": 3,
   "id": "64670c26",
   "metadata": {},
   "outputs": [],
   "source": [
    "df = pd.DataFrame(X, columns=feature_names)\n",
    "df['target'] = y\n",
    "df['target_name'] = df['target'].map({0: target_names[0], 1: target_names[1], 2: target_names[2]})"
   ]
  },
  {
   "cell_type": "markdown",
   "id": "18a2a474",
   "metadata": {},
   "source": [
    "#### Проверка на пропуски"
   ]
  },
  {
   "cell_type": "code",
   "execution_count": 4,
   "id": "b6409747",
   "metadata": {},
   "outputs": [
    {
     "name": "stdout",
     "output_type": "stream",
     "text": [
      "Пропуски в данных:\n",
      " alcohol                         0\n",
      "malic_acid                      0\n",
      "ash                             0\n",
      "alcalinity_of_ash               0\n",
      "magnesium                       0\n",
      "total_phenols                   0\n",
      "flavanoids                      0\n",
      "nonflavanoid_phenols            0\n",
      "proanthocyanins                 0\n",
      "color_intensity                 0\n",
      "hue                             0\n",
      "od280/od315_of_diluted_wines    0\n",
      "proline                         0\n",
      "target                          0\n",
      "target_name                     0\n",
      "dtype: int64\n"
     ]
    }
   ],
   "source": [
    "print(\"Пропуски в данных:\\n\", df.isnull().sum())"
   ]
  },
  {
   "cell_type": "markdown",
   "id": "5f9bf184",
   "metadata": {},
   "source": [
    "#### Разделение данных на обучающую и тестовую выборки"
   ]
  },
  {
   "cell_type": "code",
   "execution_count": 5,
   "id": "68bc747d",
   "metadata": {},
   "outputs": [],
   "source": [
    "X_train, X_test, y_train, y_test = train_test_split(X, y, test_size=0.3, random_state=42, stratify=y)"
   ]
  },
  {
   "cell_type": "markdown",
   "id": "114cc8c8",
   "metadata": {},
   "source": [
    "#### Масштабирование данных (KNN чувствителен к масштабу)"
   ]
  },
  {
   "cell_type": "code",
   "execution_count": 6,
   "id": "737e37ce",
   "metadata": {},
   "outputs": [],
   "source": [
    "scaler = StandardScaler()\n",
    "X_train_scaled = scaler.fit_transform(X_train)\n",
    "X_test_scaled = scaler.transform(X_test)"
   ]
  },
  {
   "cell_type": "markdown",
   "id": "8fbda39b",
   "metadata": {},
   "source": [
    "#### Обучение модели KNN с произвольным K=5"
   ]
  },
  {
   "cell_type": "code",
   "execution_count": 7,
   "id": "6e292b71",
   "metadata": {},
   "outputs": [],
   "source": [
    "knn = KNeighborsClassifier(n_neighbors=5)\n",
    "knn.fit(X_train_scaled, y_train)\n",
    "y_pred = knn.predict(X_test_scaled)"
   ]
  },
  {
   "cell_type": "markdown",
   "id": "298475fa",
   "metadata": {},
   "source": [
    "#### Оценка качества модели"
   ]
  },
  {
   "cell_type": "markdown",
   "id": "62f174da",
   "metadata": {},
   "source": [
    "Оценка качества через accuracy, classification_report и confusion_matrix."
   ]
  },
  {
   "cell_type": "code",
   "execution_count": 8,
   "id": "f3648ba1",
   "metadata": {},
   "outputs": [
    {
     "name": "stdout",
     "output_type": "stream",
     "text": [
      "\n",
      "--- Исходная модель (K=5) ---\n",
      "Accuracy: 0.9444444444444444\n",
      "\n",
      "Classification Report:\n",
      "               precision    recall  f1-score   support\n",
      "\n",
      "     class_0       1.00      1.00      1.00        18\n",
      "     class_1       1.00      0.86      0.92        21\n",
      "     class_2       0.83      1.00      0.91        15\n",
      "\n",
      "    accuracy                           0.94        54\n",
      "   macro avg       0.94      0.95      0.94        54\n",
      "weighted avg       0.95      0.94      0.94        54\n",
      "\n"
     ]
    }
   ],
   "source": [
    "print(\"\\n--- Исходная модель (K=5) ---\")\n",
    "print(\"Accuracy:\", accuracy_score(y_test, y_pred))\n",
    "print(\"\\nClassification Report:\\n\", classification_report(y_test, y_pred, target_names=target_names))"
   ]
  },
  {
   "cell_type": "markdown",
   "id": "249c99da",
   "metadata": {},
   "source": [
    "#### Матрица ошибок"
   ]
  },
  {
   "cell_type": "code",
   "execution_count": 9,
   "id": "f2eb448f",
   "metadata": {},
   "outputs": [
    {
     "data": {
      "image/png": "[encoded data removed]",
      "text/plain": [
       "<Figure size 640x480 with 2 Axes>"
      ]
     },
     "metadata": {},
     "output_type": "display_data"
    }
   ],
   "source": [
    "cm = confusion_matrix(y_test, y_pred)\n",
    "sns.heatmap(cm, annot=True, fmt='d', cmap='Blues', xticklabels=target_names, yticklabels=target_names)\n",
    "plt.title(\"Confusion Matrix (K=5)\")\n",
    "plt.show()"
   ]
  },
  {
   "cell_type": "markdown",
   "id": "fc7aba01",
   "metadata": {},
   "source": [
    "#### Подбор гиперпараметра K с помощью GridSearchCV"
   ]
  },
  {
   "cell_type": "markdown",
   "id": "f7d4010e",
   "metadata": {},
   "source": [
    "GridSearchCV – полный перебор значений K от 1 до 20."
   ]
  },
  {
   "cell_type": "code",
   "execution_count": 10,
   "id": "46f9199f",
   "metadata": {},
   "outputs": [
    {
     "name": "stdout",
     "output_type": "stream",
     "text": [
      "\n",
      "--- GridSearchCV ---\n",
      "Лучший K: 11\n",
      "Лучшая точность: 0.9756666666666666\n"
     ]
    }
   ],
   "source": [
    "param_grid = {'n_neighbors': np.arange(1, 21)}\n",
    "grid_search = GridSearchCV(KNeighborsClassifier(), param_grid, cv=5, scoring='accuracy')\n",
    "grid_search.fit(X_train_scaled, y_train)\n",
    "\n",
    "print(\"\\n--- GridSearchCV ---\")\n",
    "print(\"Лучший K:\", grid_search.best_params_['n_neighbors'])\n",
    "print(\"Лучшая точность:\", grid_search.best_score_)"
   ]
  },
  {
   "cell_type": "markdown",
   "id": "fd6a4ed6",
   "metadata": {},
   "source": [
    "#### Подбор гиперпараметра K с помощью RandomizedSearchCV"
   ]
  },
  {
   "cell_type": "markdown",
   "id": "3001635a",
   "metadata": {},
   "source": [
    "RandomizedSearchCV – случайный поиск (может быть быстрее на больших данных)."
   ]
  },
  {
   "cell_type": "code",
   "execution_count": 11,
   "id": "d48de510",
   "metadata": {},
   "outputs": [
    {
     "name": "stdout",
     "output_type": "stream",
     "text": [
      "\n",
      "--- RandomizedSearchCV ---\n",
      "Лучший K: 11\n",
      "Лучшая точность: 0.9756666666666666\n"
     ]
    }
   ],
   "source": [
    "param_dist = {'n_neighbors': randint(1, 21)}\n",
    "random_search = RandomizedSearchCV(KNeighborsClassifier(), param_dist, n_iter=10, cv=5, scoring='accuracy', random_state=42)\n",
    "random_search.fit(X_train_scaled, y_train)\n",
    "\n",
    "print(\"\\n--- RandomizedSearchCV ---\")\n",
    "print(\"Лучший K:\", random_search.best_params_['n_neighbors'])\n",
    "print(\"Лучшая точность:\", random_search.best_score_)"
   ]
  },
  {
   "cell_type": "markdown",
   "id": "f8297de3",
   "metadata": {},
   "source": [
    "#### Кросс-валидация с KFold и StratifiedKFold"
   ]
  },
  {
   "cell_type": "markdown",
   "id": "e46f91eb",
   "metadata": {},
   "source": [
    "[Кросс-валидация](https://blog.skillfactory.ru/chto-takoe-kross-validatsiya/)\n",
    "- KFold – стандартная кросс-валидация.\n",
    "- StratifiedKFold – сохраняет распределение классов."
   ]
  },
  {
   "cell_type": "code",
   "execution_count": 12,
   "id": "5ab75f5b",
   "metadata": {},
   "outputs": [
    {
     "name": "stdout",
     "output_type": "stream",
     "text": [
      "\n",
      "--- Кросс-валидация ---\n",
      "KFold Accuracy (mean): 0.9593333333333334\n",
      "StratifiedKFold Accuracy (mean): 0.96\n"
     ]
    }
   ],
   "source": [
    "kfold = KFold(n_splits=5, shuffle=True, random_state=42)\n",
    "skfold = StratifiedKFold(n_splits=5, shuffle=True, random_state=42)\n",
    "\n",
    "knn_optimal = KNeighborsClassifier(n_neighbors=grid_search.best_params_['n_neighbors'])\n",
    "\n",
    "cv_scores_kfold = cross_val_score(knn_optimal, X_train_scaled, y_train, cv=kfold, scoring='accuracy')\n",
    "cv_scores_skfold = cross_val_score(knn_optimal, X_train_scaled, y_train, cv=skfold, scoring='accuracy')\n",
    "\n",
    "print(\"\\n--- Кросс-валидация ---\")\n",
    "print(\"KFold Accuracy (mean):\", np.mean(cv_scores_kfold))\n",
    "print(\"StratifiedKFold Accuracy (mean):\", np.mean(cv_scores_skfold))"
   ]
  },
  {
   "cell_type": "markdown",
   "id": "fc7ee59b",
   "metadata": {},
   "source": [
    "#### Оценка оптимальной модели на тестовых данных"
   ]
  },
  {
   "cell_type": "code",
   "execution_count": 13,
   "id": "7d1d4306",
   "metadata": {},
   "outputs": [
    {
     "name": "stdout",
     "output_type": "stream",
     "text": [
      "\n",
      "--- Оптимальная модель ---\n",
      "Accuracy: 0.9629629629629629\n",
      "\n",
      "Classification Report:\n",
      "               precision    recall  f1-score   support\n",
      "\n",
      "     class_0       1.00      1.00      1.00        18\n",
      "     class_1       1.00      0.90      0.95        21\n",
      "     class_2       0.88      1.00      0.94        15\n",
      "\n",
      "    accuracy                           0.96        54\n",
      "   macro avg       0.96      0.97      0.96        54\n",
      "weighted avg       0.97      0.96      0.96        54\n",
      "\n"
     ]
    }
   ],
   "source": [
    "knn_optimal.fit(X_train_scaled, y_train)\n",
    "y_pred_optimal = knn_optimal.predict(X_test_scaled)\n",
    "\n",
    "print(\"\\n--- Оптимальная модель ---\")\n",
    "print(\"Accuracy:\", accuracy_score(y_test, y_pred_optimal))\n",
    "print(\"\\nClassification Report:\\n\", classification_report(y_test, y_pred_optimal, target_names=target_names))"
   ]
  },
  {
   "cell_type": "markdown",
   "id": "15512df1",
   "metadata": {},
   "source": [
    "#### Сравнение исходной и оптимальной моделей"
   ]
  },
  {
   "cell_type": "code",
   "execution_count": 14,
   "id": "ef507e1e",
   "metadata": {},
   "outputs": [
    {
     "name": "stdout",
     "output_type": "stream",
     "text": [
      "\n",
      "--- Сравнение моделей ---\n",
      "Исходная модель (K=5): Accuracy = 0.9444\n",
      "Оптимальная модель (K=11): Accuracy = 0.9630\n"
     ]
    }
   ],
   "source": [
    "print(\"\\n--- Сравнение моделей ---\")\n",
    "print(f\"Исходная модель (K=5): Accuracy = {accuracy_score(y_test, y_pred):.4f}\")\n",
    "print(f\"Оптимальная модель (K={grid_search.best_params_['n_neighbors']}): Accuracy = {accuracy_score(y_test, y_pred_optimal):.4f}\")"
   ]
  }
 ],
 "metadata": {
  "kernelspec": {
   "display_name": ".venv",
   "language": "python",
   "name": "python3"
  },
  "language_info": {
   "codemirror_mode": {
    "name": "ipython",
    "version": 3
   },
   "file_extension": ".py",
   "mimetype": "text/x-python",
   "name": "python",
   "nbconvert_exporter": "python",
   "pygments_lexer": "ipython3",
   "version": "3.13.3"
  }
 },
 "nbformat": 4,
 "nbformat_minor": 5
}
